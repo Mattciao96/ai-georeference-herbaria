{
 "cells": [
  {
   "cell_type": "code",
   "execution_count": 13,
   "id": "3cb9b9bd-a24f-4bdc-8038-d5e86e04453d",
   "metadata": {},
   "outputs": [],
   "source": [
    "import os\n",
    "from google import genai\n",
    "from google.genai import types\n",
    "from dotenv import load_dotenv\n",
    "from geopy.geocoders import Nominatim"
   ]
  },
  {
   "cell_type": "code",
   "execution_count": 14,
   "id": "cb3d1ba8-d22d-4acb-8245-d062a9675c5a",
   "metadata": {
    "editable": true,
    "slideshow": {
     "slide_type": ""
    },
    "tags": []
   },
   "outputs": [
    {
     "name": "stdout",
     "output_type": "stream",
     "text": [
      "API key loaded successfully!\n"
     ]
    }
   ],
   "source": [
    "# get the API key from environment variables\n",
    "load_dotenv()\n",
    "api_key = os.getenv(\"GEMINI_API_KEY\")\n",
    "\n",
    "if api_key:\n",
    "    print(\"API key loaded successfully!\")\n",
    "else:\n",
    "    print(\"API key not found in environment variables.\")"
   ]
  },
  {
   "cell_type": "code",
   "execution_count": 15,
   "id": "ea477fa2-757a-4833-8b11-399c4fe43742",
   "metadata": {},
   "outputs": [],
   "source": [
    "geolocator = Nominatim(user_agent=\"ai-geolocation\")\n",
    "def get_coordinates(location: str) -> dict:\n",
    "    \"\"\"Get coordinates and bounding box for a location using Nominatim\"\"\"\n",
    "    passed_location = location\n",
    "    try:\n",
    "        location = geolocator.geocode(location)\n",
    "        if location:\n",
    "            return {\n",
    "                \"passed_location\": passed_location,\n",
    "                \"latitude\": location.latitude,\n",
    "                \"longitude\": location.longitude,\n",
    "                \"bbox\": location.raw['boundingbox'],\n",
    "                \"address\": location.address\n",
    "            }\n",
    "        return {\"error\": \"Location not found\"}\n",
    "    except Exception as e:\n",
    "        return {\"error\": str(e)}\n",
    "\n",
    "# function for gemini\n",
    "geocode_func = {\n",
    "    \"name\": \"get_coordinates\",\n",
    "    \"description\": \"Get geographic coordinates and bounding box for a location string\",\n",
    "    \"parameters\": {\n",
    "        \"type\": \"OBJECT\",\n",
    "        \"properties\": {\n",
    "            \"location\": {\n",
    "                \"type\": \"STRING\",\n",
    "                \"description\": \"The location to geocode (e.g., 'Paris, France', 'Statue of Liberty')\"\n",
    "            }\n",
    "        },\n",
    "        \"required\": [\"location\"]\n",
    "    }\n",
    "}"
   ]
  },
  {
   "cell_type": "code",
   "execution_count": 16,
   "id": "2bbec9a2-50e8-4db7-bf4c-045c8cf03d42",
   "metadata": {},
   "outputs": [
    {
     "name": "stdout",
     "output_type": "stream",
     "text": [
      "{'error': 'Location not found'}\n"
     ]
    }
   ],
   "source": [
    "# test get_coordinates\n",
    "print(get_coordinates('Ad saxa in montibus Septem Communium.'))"
   ]
  },
  {
   "cell_type": "code",
   "execution_count": 17,
   "id": "c672a992-7e9e-4004-9027-fb77ff9cf9f9",
   "metadata": {},
   "outputs": [],
   "source": [
    "config=types.GenerateContentConfig(\n",
    "        tools=[get_coordinates],\n",
    "        temperature=0\n",
    "        )"
   ]
  },
  {
   "cell_type": "code",
   "execution_count": 18,
   "id": "6cf036d4-ab5b-4f8d-8637-0394645b3167",
   "metadata": {},
   "outputs": [],
   "source": [
    "client = genai.Client(api_key=api_key)"
   ]
  },
  {
   "cell_type": "code",
   "execution_count": 19,
   "id": "c6ef575f",
   "metadata": {},
   "outputs": [],
   "source": [
    "locality_name = \"Ad cort. Populi circa Oliero in ditione Bassanensi.\""
   ]
  },
  {
   "cell_type": "code",
   "execution_count": 20,
   "id": "68526646-a7d1-4465-9bb7-5c36b65c2ac8",
   "metadata": {},
   "outputs": [
    {
     "name": "stdout",
     "output_type": "stream",
     "text": [
      "Okay, the `get_coordinates` function successfully found a location. Here's the raw result:\n",
      "\n",
      "```json\n",
      "{\"result\": {\"address\": \"Oliero, Valbrenta, Vicenza, Veneto, 36029, Italia\", \"bbox\": [\"45.8265013\", \"45.8665013\", \"11.6494684\", \"11.6894684\"], \"latitude\": 45.8465013, \"longitude\": 11.6694684, \"passed_location\": \"Oliero, Italy\"}}\n",
      "```\n",
      "\n"
     ]
    }
   ],
   "source": [
    "# test with gemini thinking experimental with google maps (openstreetmaps) integration\n",
    "# limitations: (see)\n",
    "# - json output not supported yet \n",
    "# - thinking process not visible (yet?)\n",
    "# awesome wins\n",
    "# TORRE AMALIA\n",
    "# non male x latino\n",
    "# Ad saxa in montibus Septem Communium.\n",
    "prompt = \"\"\"\n",
    "You are an expert in georeferencing localities from herbaria labels\n",
    "\n",
    "I'm gonna pass you the name of a locality\n",
    "First , if needed format the string to make it more compatible with google maps:\n",
    "- translating if necessary (some use latin words), \n",
    "- removing unuseful or misleading parts from the string\n",
    "- add full words instead of abbreviations, for example mount is usually written as m. or mt.\n",
    "Then retrive the coordinates use google maps wrapper get_coordinates\n",
    "\n",
    "You MUST use get_coordinates tool to get the precise coordinates of the locality, the function returns a dictionary with some data\n",
    "If the function doesn't find a locality returns \"error\": \"Location not found\" \n",
    "since it use google maps if you get error retry improving the string format and retry to call get_coordinates\n",
    "\n",
    "when you get a good gereferentiation, return the raw result of get_coordinates along the thinking process\n",
    "if you find no result say it please don't lie\n",
    "\n",
    "return the result of the function call\n",
    "\n",
    "locality: \"\"\" + locality_name + \"'\"\n",
    "\n",
    "response = client.models.generate_content(\n",
    "    # model='gemini-2.0-flash-thinking-exp-01-21', # maledetti no function calling per lui\n",
    "    model='gemini-2.0-flash',\n",
    "    contents=prompt,\n",
    "    config=config\n",
    "\n",
    "   \n",
    ")\n",
    "print(response.text)"
   ]
  }
 ],
 "metadata": {
  "kernelspec": {
   "display_name": "Python 3 (ipykernel)",
   "language": "python",
   "name": "python3"
  },
  "language_info": {
   "codemirror_mode": {
    "name": "ipython",
    "version": 3
   },
   "file_extension": ".py",
   "mimetype": "text/x-python",
   "name": "python",
   "nbconvert_exporter": "python",
   "pygments_lexer": "ipython3",
   "version": "3.13.2"
  }
 },
 "nbformat": 4,
 "nbformat_minor": 5
}
